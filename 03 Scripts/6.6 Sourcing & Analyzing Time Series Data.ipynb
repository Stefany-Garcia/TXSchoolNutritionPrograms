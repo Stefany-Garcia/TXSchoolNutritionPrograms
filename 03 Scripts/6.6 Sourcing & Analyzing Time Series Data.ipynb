{
 "cells": [
  {
   "cell_type": "markdown",
   "id": "df8a63dd",
   "metadata": {},
   "source": [
    "## Importing libraries and data"
   ]
  },
  {
   "cell_type": "code",
   "execution_count": 4,
   "id": "5953076b",
   "metadata": {},
   "outputs": [],
   "source": [
    "#importing libraries\n",
    "import quandl\n",
    "import pandas as pd\n",
    "import numpy as np\n",
    "import seaborn as sns\n",
    "import matplotlib\n",
    "import matplotlib.pyplot as plt\n",
    "import statsmodels.api as sm\n",
    "import os\n",
    "import warnings \n",
    "\n",
    "warnings.filterwarnings(\"ignore\")\n",
    "\n",
    "plt.style.use('fivethirtyeight')"
   ]
  },
  {
   "cell_type": "code",
   "execution_count": 7,
   "id": "3d339ec4",
   "metadata": {},
   "outputs": [],
   "source": [
    "#importing data\n",
    "path = r'C:\\Users\\Admin\\Documents\\Data Analytics Course\\Achievement 6\\Texas School Nutrition Program Analysis\\02 Data'\n",
    "df = pd.read_csv(os.path.join(path,'Prepared Data', 'SchoolNutritionPrograms_Merged.csv'), index_col=[0]) "
   ]
  },
  {
   "cell_type": "code",
   "execution_count": 8,
   "id": "054531bc",
   "metadata": {},
   "outputs": [
    {
     "data": {
      "text/html": [
       "<div>\n",
       "<style scoped>\n",
       "    .dataframe tbody tr th:only-of-type {\n",
       "        vertical-align: middle;\n",
       "    }\n",
       "\n",
       "    .dataframe tbody tr th {\n",
       "        vertical-align: top;\n",
       "    }\n",
       "\n",
       "    .dataframe thead th {\n",
       "        text-align: right;\n",
       "    }\n",
       "</style>\n",
       "<table border=\"1\" class=\"dataframe\">\n",
       "  <thead>\n",
       "    <tr style=\"text-align: right;\">\n",
       "      <th></th>\n",
       "      <th>ReportType</th>\n",
       "      <th>CEID</th>\n",
       "      <th>CEName</th>\n",
       "      <th>TypeOfAgency</th>\n",
       "      <th>TypeOfOrg</th>\n",
       "      <th>ESC</th>\n",
       "      <th>TDARegion</th>\n",
       "      <th>SiteID</th>\n",
       "      <th>SiteName</th>\n",
       "      <th>CountyDistrictCode</th>\n",
       "      <th>...</th>\n",
       "      <th>LunchServedPaid</th>\n",
       "      <th>SnackDays</th>\n",
       "      <th>BreakfastReimbursement</th>\n",
       "      <th>LunchReimbursement</th>\n",
       "      <th>SnackReimbursement</th>\n",
       "      <th>TotalReimbursement</th>\n",
       "      <th>TotalFreeRedcEligQty</th>\n",
       "      <th>Normalized_FreeRedcElig</th>\n",
       "      <th>Normalized_LunchADP</th>\n",
       "      <th>Normalized_LunchTotal</th>\n",
       "    </tr>\n",
       "  </thead>\n",
       "  <tbody>\n",
       "    <tr>\n",
       "      <th>0</th>\n",
       "      <td>SCHOOLNUTRITIONPROGRAMCLAIMS</td>\n",
       "      <td>4</td>\n",
       "      <td>NECHES ISD</td>\n",
       "      <td>Educational Institution</td>\n",
       "      <td>Public</td>\n",
       "      <td>7</td>\n",
       "      <td>2</td>\n",
       "      <td>102</td>\n",
       "      <td>NECHES ELEMENTARY</td>\n",
       "      <td>001-906</td>\n",
       "      <td>...</td>\n",
       "      <td>0.0</td>\n",
       "      <td>19.0</td>\n",
       "      <td>0.00</td>\n",
       "      <td>0.00</td>\n",
       "      <td>263.0</td>\n",
       "      <td>263.00</td>\n",
       "      <td>250.0</td>\n",
       "      <td>100.000000</td>\n",
       "      <td>0.000000</td>\n",
       "      <td>0.000000</td>\n",
       "    </tr>\n",
       "    <tr>\n",
       "      <th>1</th>\n",
       "      <td>SCHOOLNUTRITIONPROGRAMCLAIMS</td>\n",
       "      <td>5</td>\n",
       "      <td>PALESTINE ISD</td>\n",
       "      <td>Educational Institution</td>\n",
       "      <td>Public</td>\n",
       "      <td>7</td>\n",
       "      <td>2</td>\n",
       "      <td>1</td>\n",
       "      <td>PALESTINE H S</td>\n",
       "      <td>001-907</td>\n",
       "      <td>...</td>\n",
       "      <td>930.0</td>\n",
       "      <td>0.0</td>\n",
       "      <td>6436.46</td>\n",
       "      <td>29107.95</td>\n",
       "      <td>0.0</td>\n",
       "      <td>35544.41</td>\n",
       "      <td>922.0</td>\n",
       "      <td>89.168279</td>\n",
       "      <td>59.291103</td>\n",
       "      <td>830.077369</td>\n",
       "    </tr>\n",
       "    <tr>\n",
       "      <th>2</th>\n",
       "      <td>SCHOOLNUTRITIONPROGRAMCLAIMS</td>\n",
       "      <td>5</td>\n",
       "      <td>PALESTINE ISD</td>\n",
       "      <td>Educational Institution</td>\n",
       "      <td>Public</td>\n",
       "      <td>7</td>\n",
       "      <td>2</td>\n",
       "      <td>41</td>\n",
       "      <td>PALESTINE MIDDLE</td>\n",
       "      <td>001-907</td>\n",
       "      <td>...</td>\n",
       "      <td>554.0</td>\n",
       "      <td>14.0</td>\n",
       "      <td>3522.97</td>\n",
       "      <td>17362.51</td>\n",
       "      <td>45.0</td>\n",
       "      <td>20930.48</td>\n",
       "      <td>444.0</td>\n",
       "      <td>89.156627</td>\n",
       "      <td>73.421687</td>\n",
       "      <td>1027.911647</td>\n",
       "    </tr>\n",
       "    <tr>\n",
       "      <th>3</th>\n",
       "      <td>SCHOOLNUTRITIONPROGRAMCLAIMS</td>\n",
       "      <td>5</td>\n",
       "      <td>PALESTINE ISD</td>\n",
       "      <td>Educational Institution</td>\n",
       "      <td>Public</td>\n",
       "      <td>7</td>\n",
       "      <td>2</td>\n",
       "      <td>101</td>\n",
       "      <td>NORTHSIDE PRI</td>\n",
       "      <td>001-907</td>\n",
       "      <td>...</td>\n",
       "      <td>435.0</td>\n",
       "      <td>14.0</td>\n",
       "      <td>2103.31</td>\n",
       "      <td>13616.40</td>\n",
       "      <td>32.0</td>\n",
       "      <td>15751.71</td>\n",
       "      <td>436.0</td>\n",
       "      <td>89.161554</td>\n",
       "      <td>58.648262</td>\n",
       "      <td>821.063395</td>\n",
       "    </tr>\n",
       "    <tr>\n",
       "      <th>4</th>\n",
       "      <td>SCHOOLNUTRITIONPROGRAMCLAIMS</td>\n",
       "      <td>5</td>\n",
       "      <td>PALESTINE ISD</td>\n",
       "      <td>Educational Institution</td>\n",
       "      <td>Public</td>\n",
       "      <td>7</td>\n",
       "      <td>2</td>\n",
       "      <td>102</td>\n",
       "      <td>WASHINGTON EARLY CHILDHOOD CENTER</td>\n",
       "      <td>001-907</td>\n",
       "      <td>...</td>\n",
       "      <td>269.0</td>\n",
       "      <td>0.0</td>\n",
       "      <td>5449.41</td>\n",
       "      <td>8409.61</td>\n",
       "      <td>0.0</td>\n",
       "      <td>13859.02</td>\n",
       "      <td>201.0</td>\n",
       "      <td>89.333333</td>\n",
       "      <td>78.728889</td>\n",
       "      <td>1102.222222</td>\n",
       "    </tr>\n",
       "  </tbody>\n",
       "</table>\n",
       "<p>5 rows × 38 columns</p>\n",
       "</div>"
      ],
      "text/plain": [
       "                     ReportType  CEID         CEName             TypeOfAgency  \\\n",
       "0  SCHOOLNUTRITIONPROGRAMCLAIMS     4     NECHES ISD  Educational Institution   \n",
       "1  SCHOOLNUTRITIONPROGRAMCLAIMS     5  PALESTINE ISD  Educational Institution   \n",
       "2  SCHOOLNUTRITIONPROGRAMCLAIMS     5  PALESTINE ISD  Educational Institution   \n",
       "3  SCHOOLNUTRITIONPROGRAMCLAIMS     5  PALESTINE ISD  Educational Institution   \n",
       "4  SCHOOLNUTRITIONPROGRAMCLAIMS     5  PALESTINE ISD  Educational Institution   \n",
       "\n",
       "  TypeOfOrg  ESC  TDARegion  SiteID                           SiteName  \\\n",
       "0    Public    7          2     102                  NECHES ELEMENTARY   \n",
       "1    Public    7          2       1                      PALESTINE H S   \n",
       "2    Public    7          2      41                   PALESTINE MIDDLE   \n",
       "3    Public    7          2     101                      NORTHSIDE PRI   \n",
       "4    Public    7          2     102  WASHINGTON EARLY CHILDHOOD CENTER   \n",
       "\n",
       "  CountyDistrictCode  ... LunchServedPaid SnackDays BreakfastReimbursement  \\\n",
       "0            001-906  ...             0.0      19.0                   0.00   \n",
       "1            001-907  ...           930.0       0.0                6436.46   \n",
       "2            001-907  ...           554.0      14.0                3522.97   \n",
       "3            001-907  ...           435.0      14.0                2103.31   \n",
       "4            001-907  ...           269.0       0.0                5449.41   \n",
       "\n",
       "   LunchReimbursement  SnackReimbursement  TotalReimbursement  \\\n",
       "0                0.00               263.0              263.00   \n",
       "1            29107.95                 0.0            35544.41   \n",
       "2            17362.51                45.0            20930.48   \n",
       "3            13616.40                32.0            15751.71   \n",
       "4             8409.61                 0.0            13859.02   \n",
       "\n",
       "   TotalFreeRedcEligQty  Normalized_FreeRedcElig  Normalized_LunchADP  \\\n",
       "0                 250.0               100.000000             0.000000   \n",
       "1                 922.0                89.168279            59.291103   \n",
       "2                 444.0                89.156627            73.421687   \n",
       "3                 436.0                89.161554            58.648262   \n",
       "4                 201.0                89.333333            78.728889   \n",
       "\n",
       "   Normalized_LunchTotal  \n",
       "0               0.000000  \n",
       "1             830.077369  \n",
       "2            1027.911647  \n",
       "3             821.063395  \n",
       "4            1102.222222  \n",
       "\n",
       "[5 rows x 38 columns]"
      ]
     },
     "execution_count": 8,
     "metadata": {},
     "output_type": "execute_result"
    }
   ],
   "source": [
    "df.head()"
   ]
  },
  {
   "cell_type": "code",
   "execution_count": 9,
   "id": "40c0a758",
   "metadata": {},
   "outputs": [
    {
     "data": {
      "text/plain": [
       "(56942, 38)"
      ]
     },
     "execution_count": 9,
     "metadata": {},
     "output_type": "execute_result"
    }
   ],
   "source": [
    "df.shape"
   ]
  },
  {
   "cell_type": "code",
   "execution_count": 10,
   "id": "0197a1c7",
   "metadata": {},
   "outputs": [
    {
     "data": {
      "text/plain": [
       "Index(['ReportType', 'CEID', 'CEName', 'TypeOfAgency', 'TypeOfOrg', 'ESC',\n",
       "       'TDARegion', 'SiteID', 'SiteName', 'CountyDistrictCode', 'CECounty',\n",
       "       'SiteCounty', 'ClaimDate', 'EnrollmentQty', 'FreeEligQty',\n",
       "       'RedcEligQty', 'PaidEligQty', 'BreakfastDays', 'BreakfastTotal',\n",
       "       'BreakfastADP', 'BreakfastServedFree', 'BreakfastServedRedc',\n",
       "       'BreakfastServedPaid', 'LunchDays', 'LunchTotal', 'LunchADP',\n",
       "       'LunchServedFree', 'LunchServedRedc', 'LunchServedPaid', 'SnackDays',\n",
       "       'BreakfastReimbursement', 'LunchReimbursement', 'SnackReimbursement',\n",
       "       'TotalReimbursement', 'TotalFreeRedcEligQty', 'Normalized_FreeRedcElig',\n",
       "       'Normalized_LunchADP', 'Normalized_LunchTotal'],\n",
       "      dtype='object')"
      ]
     },
     "execution_count": 10,
     "metadata": {},
     "output_type": "execute_result"
    }
   ],
   "source": [
    "df.columns"
   ]
  },
  {
   "cell_type": "markdown",
   "id": "88c423ea",
   "metadata": {},
   "source": [
    "## Cleaning Data"
   ]
  },
  {
   "cell_type": "markdown",
   "id": "51847402",
   "metadata": {},
   "source": [
    "### Adding new column"
   ]
  },
  {
   "cell_type": "code",
   "execution_count": 11,
   "id": "54a4dd0a",
   "metadata": {},
   "outputs": [],
   "source": [
    "# adding new column for total free/redc lunch served\n",
    "df['LunchServedFreeRedc'] = (df['LunchServedFree'] + df['LunchServedRedc'])"
   ]
  },
  {
   "cell_type": "code",
   "execution_count": 12,
   "id": "716e7c64",
   "metadata": {},
   "outputs": [
    {
     "data": {
      "text/plain": [
       "(56942, 39)"
      ]
     },
     "execution_count": 12,
     "metadata": {},
     "output_type": "execute_result"
    }
   ],
   "source": [
    "df.shape"
   ]
  },
  {
   "cell_type": "code",
   "execution_count": 13,
   "id": "5ca9ea61",
   "metadata": {},
   "outputs": [
    {
     "data": {
      "text/plain": [
       "Index(['ReportType', 'CEID', 'CEName', 'TypeOfAgency', 'TypeOfOrg', 'ESC',\n",
       "       'TDARegion', 'SiteID', 'SiteName', 'CountyDistrictCode', 'CECounty',\n",
       "       'SiteCounty', 'ClaimDate', 'EnrollmentQty', 'FreeEligQty',\n",
       "       'RedcEligQty', 'PaidEligQty', 'BreakfastDays', 'BreakfastTotal',\n",
       "       'BreakfastADP', 'BreakfastServedFree', 'BreakfastServedRedc',\n",
       "       'BreakfastServedPaid', 'LunchDays', 'LunchTotal', 'LunchADP',\n",
       "       'LunchServedFree', 'LunchServedRedc', 'LunchServedPaid', 'SnackDays',\n",
       "       'BreakfastReimbursement', 'LunchReimbursement', 'SnackReimbursement',\n",
       "       'TotalReimbursement', 'TotalFreeRedcEligQty', 'Normalized_FreeRedcElig',\n",
       "       'Normalized_LunchADP', 'Normalized_LunchTotal', 'LunchServedFreeRedc'],\n",
       "      dtype='object')"
      ]
     },
     "execution_count": 13,
     "metadata": {},
     "output_type": "execute_result"
    }
   ],
   "source": [
    "df.columns"
   ]
  },
  {
   "cell_type": "code",
   "execution_count": 14,
   "id": "8cbc57f6",
   "metadata": {},
   "outputs": [
    {
     "data": {
      "text/html": [
       "<div>\n",
       "<style scoped>\n",
       "    .dataframe tbody tr th:only-of-type {\n",
       "        vertical-align: middle;\n",
       "    }\n",
       "\n",
       "    .dataframe tbody tr th {\n",
       "        vertical-align: top;\n",
       "    }\n",
       "\n",
       "    .dataframe thead th {\n",
       "        text-align: right;\n",
       "    }\n",
       "</style>\n",
       "<table border=\"1\" class=\"dataframe\">\n",
       "  <thead>\n",
       "    <tr style=\"text-align: right;\">\n",
       "      <th></th>\n",
       "      <th>ReportType</th>\n",
       "      <th>CEID</th>\n",
       "      <th>CEName</th>\n",
       "      <th>TypeOfAgency</th>\n",
       "      <th>TypeOfOrg</th>\n",
       "      <th>ESC</th>\n",
       "      <th>TDARegion</th>\n",
       "      <th>SiteID</th>\n",
       "      <th>SiteName</th>\n",
       "      <th>CountyDistrictCode</th>\n",
       "      <th>...</th>\n",
       "      <th>SnackDays</th>\n",
       "      <th>BreakfastReimbursement</th>\n",
       "      <th>LunchReimbursement</th>\n",
       "      <th>SnackReimbursement</th>\n",
       "      <th>TotalReimbursement</th>\n",
       "      <th>TotalFreeRedcEligQty</th>\n",
       "      <th>Normalized_FreeRedcElig</th>\n",
       "      <th>Normalized_LunchADP</th>\n",
       "      <th>Normalized_LunchTotal</th>\n",
       "      <th>LunchServedFreeRedc</th>\n",
       "    </tr>\n",
       "  </thead>\n",
       "  <tbody>\n",
       "    <tr>\n",
       "      <th>0</th>\n",
       "      <td>SCHOOLNUTRITIONPROGRAMCLAIMS</td>\n",
       "      <td>4</td>\n",
       "      <td>NECHES ISD</td>\n",
       "      <td>Educational Institution</td>\n",
       "      <td>Public</td>\n",
       "      <td>7</td>\n",
       "      <td>2</td>\n",
       "      <td>102</td>\n",
       "      <td>NECHES ELEMENTARY</td>\n",
       "      <td>001-906</td>\n",
       "      <td>...</td>\n",
       "      <td>19.0</td>\n",
       "      <td>0.00</td>\n",
       "      <td>0.00</td>\n",
       "      <td>263.0</td>\n",
       "      <td>263.00</td>\n",
       "      <td>250.0</td>\n",
       "      <td>100.000000</td>\n",
       "      <td>0.000000</td>\n",
       "      <td>0.000000</td>\n",
       "      <td>0.0</td>\n",
       "    </tr>\n",
       "    <tr>\n",
       "      <th>1</th>\n",
       "      <td>SCHOOLNUTRITIONPROGRAMCLAIMS</td>\n",
       "      <td>5</td>\n",
       "      <td>PALESTINE ISD</td>\n",
       "      <td>Educational Institution</td>\n",
       "      <td>Public</td>\n",
       "      <td>7</td>\n",
       "      <td>2</td>\n",
       "      <td>1</td>\n",
       "      <td>PALESTINE H S</td>\n",
       "      <td>001-907</td>\n",
       "      <td>...</td>\n",
       "      <td>0.0</td>\n",
       "      <td>6436.46</td>\n",
       "      <td>29107.95</td>\n",
       "      <td>0.0</td>\n",
       "      <td>35544.41</td>\n",
       "      <td>922.0</td>\n",
       "      <td>89.168279</td>\n",
       "      <td>59.291103</td>\n",
       "      <td>830.077369</td>\n",
       "      <td>7653.0</td>\n",
       "    </tr>\n",
       "    <tr>\n",
       "      <th>2</th>\n",
       "      <td>SCHOOLNUTRITIONPROGRAMCLAIMS</td>\n",
       "      <td>5</td>\n",
       "      <td>PALESTINE ISD</td>\n",
       "      <td>Educational Institution</td>\n",
       "      <td>Public</td>\n",
       "      <td>7</td>\n",
       "      <td>2</td>\n",
       "      <td>41</td>\n",
       "      <td>PALESTINE MIDDLE</td>\n",
       "      <td>001-907</td>\n",
       "      <td>...</td>\n",
       "      <td>14.0</td>\n",
       "      <td>3522.97</td>\n",
       "      <td>17362.51</td>\n",
       "      <td>45.0</td>\n",
       "      <td>20930.48</td>\n",
       "      <td>444.0</td>\n",
       "      <td>89.156627</td>\n",
       "      <td>73.421687</td>\n",
       "      <td>1027.911647</td>\n",
       "      <td>4565.0</td>\n",
       "    </tr>\n",
       "    <tr>\n",
       "      <th>3</th>\n",
       "      <td>SCHOOLNUTRITIONPROGRAMCLAIMS</td>\n",
       "      <td>5</td>\n",
       "      <td>PALESTINE ISD</td>\n",
       "      <td>Educational Institution</td>\n",
       "      <td>Public</td>\n",
       "      <td>7</td>\n",
       "      <td>2</td>\n",
       "      <td>101</td>\n",
       "      <td>NORTHSIDE PRI</td>\n",
       "      <td>001-907</td>\n",
       "      <td>...</td>\n",
       "      <td>14.0</td>\n",
       "      <td>2103.31</td>\n",
       "      <td>13616.40</td>\n",
       "      <td>32.0</td>\n",
       "      <td>15751.71</td>\n",
       "      <td>436.0</td>\n",
       "      <td>89.161554</td>\n",
       "      <td>58.648262</td>\n",
       "      <td>821.063395</td>\n",
       "      <td>3580.0</td>\n",
       "    </tr>\n",
       "    <tr>\n",
       "      <th>4</th>\n",
       "      <td>SCHOOLNUTRITIONPROGRAMCLAIMS</td>\n",
       "      <td>5</td>\n",
       "      <td>PALESTINE ISD</td>\n",
       "      <td>Educational Institution</td>\n",
       "      <td>Public</td>\n",
       "      <td>7</td>\n",
       "      <td>2</td>\n",
       "      <td>102</td>\n",
       "      <td>WASHINGTON EARLY CHILDHOOD CENTER</td>\n",
       "      <td>001-907</td>\n",
       "      <td>...</td>\n",
       "      <td>0.0</td>\n",
       "      <td>5449.41</td>\n",
       "      <td>8409.61</td>\n",
       "      <td>0.0</td>\n",
       "      <td>13859.02</td>\n",
       "      <td>201.0</td>\n",
       "      <td>89.333333</td>\n",
       "      <td>78.728889</td>\n",
       "      <td>1102.222222</td>\n",
       "      <td>2211.0</td>\n",
       "    </tr>\n",
       "  </tbody>\n",
       "</table>\n",
       "<p>5 rows × 39 columns</p>\n",
       "</div>"
      ],
      "text/plain": [
       "                     ReportType  CEID         CEName             TypeOfAgency  \\\n",
       "0  SCHOOLNUTRITIONPROGRAMCLAIMS     4     NECHES ISD  Educational Institution   \n",
       "1  SCHOOLNUTRITIONPROGRAMCLAIMS     5  PALESTINE ISD  Educational Institution   \n",
       "2  SCHOOLNUTRITIONPROGRAMCLAIMS     5  PALESTINE ISD  Educational Institution   \n",
       "3  SCHOOLNUTRITIONPROGRAMCLAIMS     5  PALESTINE ISD  Educational Institution   \n",
       "4  SCHOOLNUTRITIONPROGRAMCLAIMS     5  PALESTINE ISD  Educational Institution   \n",
       "\n",
       "  TypeOfOrg  ESC  TDARegion  SiteID                           SiteName  \\\n",
       "0    Public    7          2     102                  NECHES ELEMENTARY   \n",
       "1    Public    7          2       1                      PALESTINE H S   \n",
       "2    Public    7          2      41                   PALESTINE MIDDLE   \n",
       "3    Public    7          2     101                      NORTHSIDE PRI   \n",
       "4    Public    7          2     102  WASHINGTON EARLY CHILDHOOD CENTER   \n",
       "\n",
       "  CountyDistrictCode  ... SnackDays BreakfastReimbursement LunchReimbursement  \\\n",
       "0            001-906  ...      19.0                   0.00               0.00   \n",
       "1            001-907  ...       0.0                6436.46           29107.95   \n",
       "2            001-907  ...      14.0                3522.97           17362.51   \n",
       "3            001-907  ...      14.0                2103.31           13616.40   \n",
       "4            001-907  ...       0.0                5449.41            8409.61   \n",
       "\n",
       "   SnackReimbursement  TotalReimbursement  TotalFreeRedcEligQty  \\\n",
       "0               263.0              263.00                 250.0   \n",
       "1                 0.0            35544.41                 922.0   \n",
       "2                45.0            20930.48                 444.0   \n",
       "3                32.0            15751.71                 436.0   \n",
       "4                 0.0            13859.02                 201.0   \n",
       "\n",
       "   Normalized_FreeRedcElig  Normalized_LunchADP  Normalized_LunchTotal  \\\n",
       "0               100.000000             0.000000               0.000000   \n",
       "1                89.168279            59.291103             830.077369   \n",
       "2                89.156627            73.421687            1027.911647   \n",
       "3                89.161554            58.648262             821.063395   \n",
       "4                89.333333            78.728889            1102.222222   \n",
       "\n",
       "   LunchServedFreeRedc  \n",
       "0                  0.0  \n",
       "1               7653.0  \n",
       "2               4565.0  \n",
       "3               3580.0  \n",
       "4               2211.0  \n",
       "\n",
       "[5 rows x 39 columns]"
      ]
     },
     "execution_count": 14,
     "metadata": {},
     "output_type": "execute_result"
    }
   ],
   "source": [
    "df.head()"
   ]
  },
  {
   "cell_type": "code",
   "execution_count": 15,
   "id": "e9769e16",
   "metadata": {},
   "outputs": [
    {
     "data": {
      "text/plain": [
       "dtype('O')"
      ]
     },
     "execution_count": 15,
     "metadata": {},
     "output_type": "execute_result"
    }
   ],
   "source": [
    "df['ClaimDate'].dtypes"
   ]
  },
  {
   "cell_type": "code",
   "execution_count": 16,
   "id": "b2b98eb1",
   "metadata": {},
   "outputs": [],
   "source": [
    "#changing CLaimDate column to datetime data type\n",
    "df['ClaimDate']= pd.to_datetime(df['ClaimDate'])\n"
   ]
  },
  {
   "cell_type": "markdown",
   "id": "1807fc11",
   "metadata": {},
   "source": [
    "### Removing outliers"
   ]
  },
  {
   "cell_type": "code",
   "execution_count": 17,
   "id": "7c594cb5",
   "metadata": {},
   "outputs": [
    {
     "name": "stdout",
     "output_type": "stream",
     "text": [
      "0.0\n",
      "2134.0\n",
      "2134.0\n",
      "-3201.0 5335.0\n"
     ]
    }
   ],
   "source": [
    "#checking lower and upper limits\n",
    "Q1=df['LunchServedFreeRedc'].quantile(0.25)\n",
    "Q3=df['LunchServedFreeRedc'].quantile(0.75)\n",
    "IQR=Q3-Q1\n",
    "print(Q1)\n",
    "print(Q3)\n",
    "print(IQR)\n",
    "Lower_Whisker = Q1 - 1.5*IQR\n",
    "Upper_Whisker = Q3+1.5*IQR\n",
    "print(Lower_Whisker, Upper_Whisker)"
   ]
  },
  {
   "cell_type": "code",
   "execution_count": 18,
   "id": "8bbb7640",
   "metadata": {},
   "outputs": [],
   "source": [
    "#creating new df with outliers removed\n",
    "df_NoOutliers = df[df['LunchServedFreeRedc']< Upper_Whisker]"
   ]
  },
  {
   "cell_type": "code",
   "execution_count": 19,
   "id": "f0e552f9",
   "metadata": {},
   "outputs": [
    {
     "data": {
      "text/plain": [
       "(52655, 39)"
      ]
     },
     "execution_count": 19,
     "metadata": {},
     "output_type": "execute_result"
    }
   ],
   "source": [
    "df_NoOutliers.shape"
   ]
  },
  {
   "cell_type": "markdown",
   "id": "88a1de45",
   "metadata": {},
   "source": [
    "## Aggregating data for line plot"
   ]
  },
  {
   "cell_type": "code",
   "execution_count": 20,
   "id": "4b820d7f",
   "metadata": {},
   "outputs": [
    {
     "data": {
      "text/html": [
       "<div>\n",
       "<style scoped>\n",
       "    .dataframe tbody tr th:only-of-type {\n",
       "        vertical-align: middle;\n",
       "    }\n",
       "\n",
       "    .dataframe tbody tr th {\n",
       "        vertical-align: top;\n",
       "    }\n",
       "\n",
       "    .dataframe thead tr th {\n",
       "        text-align: left;\n",
       "    }\n",
       "\n",
       "    .dataframe thead tr:last-of-type th {\n",
       "        text-align: right;\n",
       "    }\n",
       "</style>\n",
       "<table border=\"1\" class=\"dataframe\">\n",
       "  <thead>\n",
       "    <tr>\n",
       "      <th></th>\n",
       "      <th>LunchServedFreeRedc</th>\n",
       "    </tr>\n",
       "    <tr>\n",
       "      <th></th>\n",
       "      <th>sum</th>\n",
       "    </tr>\n",
       "    <tr>\n",
       "      <th>ClaimDate</th>\n",
       "      <th></th>\n",
       "    </tr>\n",
       "  </thead>\n",
       "  <tbody>\n",
       "    <tr>\n",
       "      <th>2020-07-01</th>\n",
       "      <td>98544.0</td>\n",
       "    </tr>\n",
       "    <tr>\n",
       "      <th>2020-08-01</th>\n",
       "      <td>4647425.0</td>\n",
       "    </tr>\n",
       "    <tr>\n",
       "      <th>2020-09-01</th>\n",
       "      <td>9197471.0</td>\n",
       "    </tr>\n",
       "    <tr>\n",
       "      <th>2020-10-01</th>\n",
       "      <td>5913040.0</td>\n",
       "    </tr>\n",
       "    <tr>\n",
       "      <th>2020-11-01</th>\n",
       "      <td>3906714.0</td>\n",
       "    </tr>\n",
       "    <tr>\n",
       "      <th>2020-12-01</th>\n",
       "      <td>3544755.0</td>\n",
       "    </tr>\n",
       "    <tr>\n",
       "      <th>2021-01-01</th>\n",
       "      <td>3871598.0</td>\n",
       "    </tr>\n",
       "    <tr>\n",
       "      <th>2021-02-01</th>\n",
       "      <td>3643476.0</td>\n",
       "    </tr>\n",
       "    <tr>\n",
       "      <th>2021-03-01</th>\n",
       "      <td>3852438.0</td>\n",
       "    </tr>\n",
       "    <tr>\n",
       "      <th>2021-04-01</th>\n",
       "      <td>3694864.0</td>\n",
       "    </tr>\n",
       "    <tr>\n",
       "      <th>2021-05-01</th>\n",
       "      <td>3674850.0</td>\n",
       "    </tr>\n",
       "    <tr>\n",
       "      <th>2021-06-01</th>\n",
       "      <td>574947.0</td>\n",
       "    </tr>\n",
       "    <tr>\n",
       "      <th>2021-07-01</th>\n",
       "      <td>107944.0</td>\n",
       "    </tr>\n",
       "    <tr>\n",
       "      <th>2021-08-01</th>\n",
       "      <td>830333.0</td>\n",
       "    </tr>\n",
       "    <tr>\n",
       "      <th>2021-09-01</th>\n",
       "      <td>729294.0</td>\n",
       "    </tr>\n",
       "    <tr>\n",
       "      <th>2021-10-01</th>\n",
       "      <td>610286.0</td>\n",
       "    </tr>\n",
       "    <tr>\n",
       "      <th>2021-11-01</th>\n",
       "      <td>687650.0</td>\n",
       "    </tr>\n",
       "    <tr>\n",
       "      <th>2021-12-01</th>\n",
       "      <td>836259.0</td>\n",
       "    </tr>\n",
       "    <tr>\n",
       "      <th>2022-01-01</th>\n",
       "      <td>710576.0</td>\n",
       "    </tr>\n",
       "    <tr>\n",
       "      <th>2022-02-01</th>\n",
       "      <td>672042.0</td>\n",
       "    </tr>\n",
       "    <tr>\n",
       "      <th>2022-03-01</th>\n",
       "      <td>662719.0</td>\n",
       "    </tr>\n",
       "    <tr>\n",
       "      <th>2022-04-01</th>\n",
       "      <td>637282.0</td>\n",
       "    </tr>\n",
       "    <tr>\n",
       "      <th>2022-05-01</th>\n",
       "      <td>677852.0</td>\n",
       "    </tr>\n",
       "    <tr>\n",
       "      <th>2022-06-01</th>\n",
       "      <td>205439.0</td>\n",
       "    </tr>\n",
       "  </tbody>\n",
       "</table>\n",
       "</div>"
      ],
      "text/plain": [
       "           LunchServedFreeRedc\n",
       "                           sum\n",
       "ClaimDate                     \n",
       "2020-07-01             98544.0\n",
       "2020-08-01           4647425.0\n",
       "2020-09-01           9197471.0\n",
       "2020-10-01           5913040.0\n",
       "2020-11-01           3906714.0\n",
       "2020-12-01           3544755.0\n",
       "2021-01-01           3871598.0\n",
       "2021-02-01           3643476.0\n",
       "2021-03-01           3852438.0\n",
       "2021-04-01           3694864.0\n",
       "2021-05-01           3674850.0\n",
       "2021-06-01            574947.0\n",
       "2021-07-01            107944.0\n",
       "2021-08-01            830333.0\n",
       "2021-09-01            729294.0\n",
       "2021-10-01            610286.0\n",
       "2021-11-01            687650.0\n",
       "2021-12-01            836259.0\n",
       "2022-01-01            710576.0\n",
       "2022-02-01            672042.0\n",
       "2022-03-01            662719.0\n",
       "2022-04-01            637282.0\n",
       "2022-05-01            677852.0\n",
       "2022-06-01            205439.0"
      ]
     },
     "execution_count": 20,
     "metadata": {},
     "output_type": "execute_result"
    }
   ],
   "source": [
    "df_line = (df_NoOutliers.groupby('ClaimDate').agg({'LunchServedFreeRedc': ['sum']}))\n",
    "df_line"
   ]
  },
  {
   "cell_type": "code",
   "execution_count": 21,
   "id": "aa95c454",
   "metadata": {},
   "outputs": [
    {
     "data": {
      "text/plain": [
       "pandas.core.frame.DataFrame"
      ]
     },
     "execution_count": 21,
     "metadata": {},
     "output_type": "execute_result"
    }
   ],
   "source": [
    "type(df_line)"
   ]
  },
  {
   "cell_type": "markdown",
   "id": "8106dda6",
   "metadata": {},
   "source": [
    "## Line Plot"
   ]
  },
  {
   "cell_type": "code",
   "execution_count": 22,
   "id": "69444030",
   "metadata": {},
   "outputs": [
    {
     "data": {
      "text/plain": [
       "[<matplotlib.lines.Line2D at 0x17799a85400>]"
      ]
     },
     "execution_count": 22,
     "metadata": {},
     "output_type": "execute_result"
    },
    {
     "data": {
      "image/png": "[encoded data removed]",
      "text/plain": [
       "<Figure size 1500x500 with 1 Axes>"
      ]
     },
     "metadata": {},
     "output_type": "display_data"
    }
   ],
   "source": [
    "plt.figure(figsize=(15,5), dpi=100)\n",
    "plt.plot(df_line)"
   ]
  },
  {
   "cell_type": "markdown",
   "id": "5faa6f43",
   "metadata": {},
   "source": [
    "## Decomposition"
   ]
  },
  {
   "cell_type": "code",
   "execution_count": 23,
   "id": "79963291",
   "metadata": {},
   "outputs": [],
   "source": [
    "#using the linear model\n",
    "decomposition_linear = sm.tsa.seasonal_decompose(df_line, model='additive')"
   ]
  },
  {
   "cell_type": "code",
   "execution_count": 24,
   "id": "2fe59c1c",
   "metadata": {},
   "outputs": [],
   "source": [
    "from pylab import rcParams # This will define a fixed size for all special charts.\n",
    "\n",
    "rcParams['figure.figsize'] = 18, 7"
   ]
  },
  {
   "cell_type": "code",
   "execution_count": 25,
   "id": "bec539b1",
   "metadata": {
    "scrolled": false
   },
   "outputs": [
    {
     "data": {
      "image/png": "[encoded data removed]",
      "text/plain": [
       "<Figure size 1296x504 with 4 Axes>"
      ]
     },
     "metadata": {},
     "output_type": "display_data"
    }
   ],
   "source": [
    "# Plot the separate components\n",
    "\n",
    "DecompositionChart = (decomposition_linear.plot())\n",
    "plt.show()"
   ]
  },
  {
   "cell_type": "markdown",
   "id": "b9c83caa",
   "metadata": {},
   "source": [
    "There is a downward trend from the beginning of the year 2021 to the beginning of 2022. In terms of seasonality, there are peaks in the spring months (beginning in Feb and peaking in May) and dips in the summer months (June and July). The latter makes sense, since school is out during those months. There is also some noise from 1/21-1/22."
   ]
  },
  {
   "cell_type": "code",
   "execution_count": 30,
   "id": "b896a7f7",
   "metadata": {},
   "outputs": [],
   "source": [
    "DecompositionChart.savefig('Decomposition')"
   ]
  },
  {
   "cell_type": "markdown",
   "id": "fd458c24",
   "metadata": {},
   "source": [
    "## Testing for stationarity"
   ]
  },
  {
   "cell_type": "markdown",
   "id": "65742430",
   "metadata": {},
   "source": [
    "### Dickey Fuller Test"
   ]
  },
  {
   "cell_type": "code",
   "execution_count": 27,
   "id": "690b9603",
   "metadata": {},
   "outputs": [
    {
     "name": "stdout",
     "output_type": "stream",
     "text": [
      "Dickey-Fuller Stationarity test:\n",
      "Test Statistic                 -4.191287\n",
      "p-value                         0.000682\n",
      "Number of Lags Used             8.000000\n",
      "Number of Observations Used    15.000000\n",
      "Critical Value (1%)            -3.964443\n",
      "Critical Value (5%)            -3.084908\n",
      "Critical Value (10%)           -2.681814\n",
      "dtype: float64\n"
     ]
    }
   ],
   "source": [
    "from statsmodels.tsa.stattools import adfuller # Import the adfuller() function\n",
    "\n",
    "def dickey_fuller(timeseries): # Define the function\n",
    "    # Perform the Dickey-Fuller test:\n",
    "    print ('Dickey-Fuller Stationarity test:')\n",
    "    test = adfuller(timeseries, autolag='AIC')\n",
    "    result = pd.Series(test[0:4], index=['Test Statistic','p-value','Number of Lags Used','Number of Observations Used'])\n",
    "    for key,value in test[4].items():\n",
    "       result['Critical Value (%s)'%key] = value\n",
    "    print (result)\n",
    "\n",
    "# Apply the test using the function on the time series\n",
    "dickey_fuller(df_line['LunchServedFreeRedc'])"
   ]
  },
  {
   "cell_type": "markdown",
   "id": "cfe26d92",
   "metadata": {},
   "source": [
    "The test statistic (-4.19) is smaller than the Critical Value 5% (-3.96). Therefore I can reject my null hypothesis. This means there is not a unit root in my data and it is stationary."
   ]
  },
  {
   "cell_type": "markdown",
   "id": "33d23e5f",
   "metadata": {},
   "source": [
    "### Test for autocorrelations"
   ]
  },
  {
   "cell_type": "code",
   "execution_count": 28,
   "id": "b9ca460c",
   "metadata": {},
   "outputs": [],
   "source": [
    "# import the autocorrelation and partial correlation plots\n",
    "from statsmodels.graphics.tsaplots import plot_acf, plot_pacf "
   ]
  },
  {
   "cell_type": "code",
   "execution_count": 31,
   "id": "f2a3083b",
   "metadata": {},
   "outputs": [
    {
     "data": {
      "image/png": "[encoded data removed]",
      "text/plain": [
       "<Figure size 1296x504 with 1 Axes>"
      ]
     },
     "metadata": {},
     "output_type": "display_data"
    }
   ],
   "source": [
    "#plot autocorrelation graph\n",
    "Autocorrelation = (plot_acf(df_line))\n",
    "plt.show()"
   ]
  },
  {
   "cell_type": "markdown",
   "id": "b580f9f8",
   "metadata": {},
   "source": [
    "The autocorrelation graph shows very few lags that are significantly correlated with each other. I can conclude that my data is stationary."
   ]
  },
  {
   "cell_type": "code",
   "execution_count": 32,
   "id": "c29c815a",
   "metadata": {},
   "outputs": [],
   "source": [
    "#save figure\n",
    "Autocorrelation.savefig('Autocorrelation')"
   ]
  },
  {
   "cell_type": "code",
   "execution_count": null,
   "id": "9fe07209",
   "metadata": {},
   "outputs": [],
   "source": []
  }
 ],
 "metadata": {
  "kernelspec": {
   "display_name": "Python 3 (ipykernel)",
   "language": "python",
   "name": "python3"
  },
  "language_info": {
   "codemirror_mode": {
    "name": "ipython",
    "version": 3
   },
   "file_extension": ".py",
   "mimetype": "text/x-python",
   "name": "python",
   "nbconvert_exporter": "python",
   "pygments_lexer": "ipython3",
   "version": "3.9.12"
  }
 },
 "nbformat": 4,
 "nbformat_minor": 5
}
